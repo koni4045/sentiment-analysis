{
 "cells": [
  {
   "cell_type": "code",
   "execution_count": 125,
   "id": "052d4498",
   "metadata": {},
   "outputs": [],
   "source": [
    "import pandas as pd\n",
    "import re\n",
    "from textblob import TextBlob as tb\n",
    "import numpy as np\n",
    "import matplotlib.pyplot as plt\n",
    "%matplotlib inline"
   ]
  },
  {
   "cell_type": "code",
   "execution_count": 126,
   "id": "b151d665",
   "metadata": {},
   "outputs": [],
   "source": [
    "filenameTrump ='/Users/konishbharathrajjonnalagadda/Desktop/UNH/intro to data science/Sentiment analysis/archive/hashtag_donaldtrump.csv'\n",
    "filenameJoeBiden ='/Users/konishbharathrajjonnalagadda/Desktop/UNH/intro to data science/Sentiment analysis/archive/hashtag_joebiden.csv'"
   ]
  },
  {
   "cell_type": "code",
   "execution_count": 127,
   "id": "4af5b97a",
   "metadata": {},
   "outputs": [
    {
     "data": {
      "text/plain": [
       "'/Users/konishbharathrajjonnalagadda/Desktop/UNH/intro to data science/Sentiment analysis/archive/hashtag_donaldtrump.csv'"
      ]
     },
     "execution_count": 127,
     "metadata": {},
     "output_type": "execute_result"
    }
   ],
   "source": [
    "filenameTrump"
   ]
  },
  {
   "cell_type": "code",
   "execution_count": 128,
   "id": "a91e622f",
   "metadata": {},
   "outputs": [],
   "source": [
    "dfTrump = pd.read_csv(filenameTrump,lineterminator='\\n')\n",
    "dfBiden = pd.read_csv(filenameJoeBiden,lineterminator='\\n')"
   ]
  },
  {
   "cell_type": "code",
   "execution_count": 129,
   "id": "6f1e5481",
   "metadata": {},
   "outputs": [],
   "source": [
    "def cleanUpTweet(text):\n",
    "    text = re.sub(r'@[A-Z0-9a-z_]+','',text)\n",
    "    text = re.sub(r'#','',text)\n",
    "    text = re.sub(r'@[A-Z0-9a-z_]+','',text)\n",
    "    text = re.sub(r'https?\\/\\/[A-Za-z0-9\\.\\/]+','',text)\n",
    "    return text"
   ]
  },
  {
   "cell_type": "code",
   "execution_count": 130,
   "id": "adc31396",
   "metadata": {},
   "outputs": [],
   "source": [
    "dfTrump['tweet']=dfTrump['tweet'].apply(cleanUpTweet )"
   ]
  },
  {
   "cell_type": "code",
   "execution_count": 131,
   "id": "e2e2f692",
   "metadata": {},
   "outputs": [],
   "source": [
    "fewTweetsTrump = dfTrump['tweet'].to_frame()"
   ]
  },
  {
   "cell_type": "code",
   "execution_count": 132,
   "id": "5094b55f",
   "metadata": {},
   "outputs": [
    {
     "data": {
      "text/html": [
       "<div>\n",
       "<style scoped>\n",
       "    .dataframe tbody tr th:only-of-type {\n",
       "        vertical-align: middle;\n",
       "    }\n",
       "\n",
       "    .dataframe tbody tr th {\n",
       "        vertical-align: top;\n",
       "    }\n",
       "\n",
       "    .dataframe thead th {\n",
       "        text-align: right;\n",
       "    }\n",
       "</style>\n",
       "<table border=\"1\" class=\"dataframe\">\n",
       "  <thead>\n",
       "    <tr style=\"text-align: right;\">\n",
       "      <th></th>\n",
       "      <th>tweet</th>\n",
       "    </tr>\n",
       "  </thead>\n",
       "  <tbody>\n",
       "    <tr>\n",
       "      <th>0</th>\n",
       "      <td>Elecciones2020 | En Florida: JoeBiden dice que...</td>\n",
       "    </tr>\n",
       "    <tr>\n",
       "      <th>1</th>\n",
       "      <td>Usa 2020, Trump contro Facebook e Twitter: cop...</td>\n",
       "    </tr>\n",
       "    <tr>\n",
       "      <th>2</th>\n",
       "      <td>Trump: As a student I used to hear for years, ...</td>\n",
       "    </tr>\n",
       "    <tr>\n",
       "      <th>3</th>\n",
       "      <td>2 hours since last tweet from Trump! Maybe he ...</td>\n",
       "    </tr>\n",
       "    <tr>\n",
       "      <th>4</th>\n",
       "      <td>You get a tie! And you get a tie! Trump ‘s ral...</td>\n",
       "    </tr>\n",
       "    <tr>\n",
       "      <th>...</th>\n",
       "      <td>...</td>\n",
       "    </tr>\n",
       "    <tr>\n",
       "      <th>970914</th>\n",
       "      <td>Sagten Sie nicht Sie wären kein Sozi!?\\n\\...</td>\n",
       "    </tr>\n",
       "    <tr>\n",
       "      <th>970915</th>\n",
       "      <td>JOE BIDEN WHY JOE BIDEN DID WINNED ?? TRUMP TR...</td>\n",
       "    </tr>\n",
       "    <tr>\n",
       "      <th>970916</th>\n",
       "      <td>AfD|ler reagieren panisch bis hysterisch auf d...</td>\n",
       "    </tr>\n",
       "    <tr>\n",
       "      <th>970917</th>\n",
       "      <td>First, you would need to compare that to pr...</td>\n",
       "    </tr>\n",
       "    <tr>\n",
       "      <th>970918</th>\n",
       "      <td>OK just had to do it !\\nTrump CatapultTrump ht...</td>\n",
       "    </tr>\n",
       "  </tbody>\n",
       "</table>\n",
       "<p>970919 rows × 1 columns</p>\n",
       "</div>"
      ],
      "text/plain": [
       "                                                    tweet\n",
       "0       Elecciones2020 | En Florida: JoeBiden dice que...\n",
       "1       Usa 2020, Trump contro Facebook e Twitter: cop...\n",
       "2       Trump: As a student I used to hear for years, ...\n",
       "3       2 hours since last tweet from Trump! Maybe he ...\n",
       "4       You get a tie! And you get a tie! Trump ‘s ral...\n",
       "...                                                   ...\n",
       "970914       Sagten Sie nicht Sie wären kein Sozi!?\\n\\...\n",
       "970915  JOE BIDEN WHY JOE BIDEN DID WINNED ?? TRUMP TR...\n",
       "970916  AfD|ler reagieren panisch bis hysterisch auf d...\n",
       "970917     First, you would need to compare that to pr...\n",
       "970918  OK just had to do it !\\nTrump CatapultTrump ht...\n",
       "\n",
       "[970919 rows x 1 columns]"
      ]
     },
     "execution_count": 132,
     "metadata": {},
     "output_type": "execute_result"
    }
   ],
   "source": [
    "fewTweetsTrump"
   ]
  },
  {
   "cell_type": "code",
   "execution_count": 133,
   "id": "d7e4c27e",
   "metadata": {},
   "outputs": [],
   "source": [
    "def getPolarity(text):\n",
    "    return tb(text).sentiment.polarity\n",
    "    "
   ]
  },
  {
   "cell_type": "code",
   "execution_count": 134,
   "id": "958fa906",
   "metadata": {},
   "outputs": [],
   "source": [
    "fewTweetsTrump['tweetPolarity'] = fewTweetsTrump['tweet'].apply(getPolarity)"
   ]
  },
  {
   "cell_type": "code",
   "execution_count": 135,
   "id": "79bbdafe",
   "metadata": {},
   "outputs": [
    {
     "data": {
      "text/html": [
       "<div>\n",
       "<style scoped>\n",
       "    .dataframe tbody tr th:only-of-type {\n",
       "        vertical-align: middle;\n",
       "    }\n",
       "\n",
       "    .dataframe tbody tr th {\n",
       "        vertical-align: top;\n",
       "    }\n",
       "\n",
       "    .dataframe thead th {\n",
       "        text-align: right;\n",
       "    }\n",
       "</style>\n",
       "<table border=\"1\" class=\"dataframe\">\n",
       "  <thead>\n",
       "    <tr style=\"text-align: right;\">\n",
       "      <th></th>\n",
       "      <th>tweet</th>\n",
       "      <th>tweetPolarity</th>\n",
       "    </tr>\n",
       "  </thead>\n",
       "  <tbody>\n",
       "    <tr>\n",
       "      <th>0</th>\n",
       "      <td>Elecciones2020 | En Florida: JoeBiden dice que...</td>\n",
       "      <td>0.000000</td>\n",
       "    </tr>\n",
       "    <tr>\n",
       "      <th>1</th>\n",
       "      <td>Usa 2020, Trump contro Facebook e Twitter: cop...</td>\n",
       "      <td>0.000000</td>\n",
       "    </tr>\n",
       "    <tr>\n",
       "      <th>2</th>\n",
       "      <td>Trump: As a student I used to hear for years, ...</td>\n",
       "      <td>0.333333</td>\n",
       "    </tr>\n",
       "    <tr>\n",
       "      <th>3</th>\n",
       "      <td>2 hours since last tweet from Trump! Maybe he ...</td>\n",
       "      <td>0.076667</td>\n",
       "    </tr>\n",
       "    <tr>\n",
       "      <th>4</th>\n",
       "      <td>You get a tie! And you get a tie! Trump ‘s ral...</td>\n",
       "      <td>0.000000</td>\n",
       "    </tr>\n",
       "    <tr>\n",
       "      <th>...</th>\n",
       "      <td>...</td>\n",
       "      <td>...</td>\n",
       "    </tr>\n",
       "    <tr>\n",
       "      <th>970914</th>\n",
       "      <td>Sagten Sie nicht Sie wären kein Sozi!?\\n\\...</td>\n",
       "      <td>0.000000</td>\n",
       "    </tr>\n",
       "    <tr>\n",
       "      <th>970915</th>\n",
       "      <td>JOE BIDEN WHY JOE BIDEN DID WINNED ?? TRUMP TR...</td>\n",
       "      <td>-0.150000</td>\n",
       "    </tr>\n",
       "    <tr>\n",
       "      <th>970916</th>\n",
       "      <td>AfD|ler reagieren panisch bis hysterisch auf d...</td>\n",
       "      <td>0.000000</td>\n",
       "    </tr>\n",
       "    <tr>\n",
       "      <th>970917</th>\n",
       "      <td>First, you would need to compare that to pr...</td>\n",
       "      <td>0.130556</td>\n",
       "    </tr>\n",
       "    <tr>\n",
       "      <th>970918</th>\n",
       "      <td>OK just had to do it !\\nTrump CatapultTrump ht...</td>\n",
       "      <td>0.625000</td>\n",
       "    </tr>\n",
       "  </tbody>\n",
       "</table>\n",
       "<p>970919 rows × 2 columns</p>\n",
       "</div>"
      ],
      "text/plain": [
       "                                                    tweet  tweetPolarity\n",
       "0       Elecciones2020 | En Florida: JoeBiden dice que...       0.000000\n",
       "1       Usa 2020, Trump contro Facebook e Twitter: cop...       0.000000\n",
       "2       Trump: As a student I used to hear for years, ...       0.333333\n",
       "3       2 hours since last tweet from Trump! Maybe he ...       0.076667\n",
       "4       You get a tie! And you get a tie! Trump ‘s ral...       0.000000\n",
       "...                                                   ...            ...\n",
       "970914       Sagten Sie nicht Sie wären kein Sozi!?\\n\\...       0.000000\n",
       "970915  JOE BIDEN WHY JOE BIDEN DID WINNED ?? TRUMP TR...      -0.150000\n",
       "970916  AfD|ler reagieren panisch bis hysterisch auf d...       0.000000\n",
       "970917     First, you would need to compare that to pr...       0.130556\n",
       "970918  OK just had to do it !\\nTrump CatapultTrump ht...       0.625000\n",
       "\n",
       "[970919 rows x 2 columns]"
      ]
     },
     "execution_count": 135,
     "metadata": {},
     "output_type": "execute_result"
    }
   ],
   "source": [
    "fewTweetsTrump"
   ]
  },
  {
   "cell_type": "code",
   "execution_count": 136,
   "id": "6c288d76",
   "metadata": {},
   "outputs": [],
   "source": [
    "def getScore(polarity):\n",
    "    if polarity<0:\n",
    "        return 'Negative'\n",
    "    elif polarity>0:\n",
    "        return 'Positive'\n",
    "    else:\n",
    "        return 'Neutral'"
   ]
  },
  {
   "cell_type": "code",
   "execution_count": 137,
   "id": "a4059258",
   "metadata": {},
   "outputs": [],
   "source": [
    "fewTweetsTrump['score']=fewTweetsTrump['tweetPolarity'].apply(getScore)"
   ]
  },
  {
   "cell_type": "code",
   "execution_count": 138,
   "id": "4a4dfb5b",
   "metadata": {},
   "outputs": [
    {
     "data": {
      "text/html": [
       "<div>\n",
       "<style scoped>\n",
       "    .dataframe tbody tr th:only-of-type {\n",
       "        vertical-align: middle;\n",
       "    }\n",
       "\n",
       "    .dataframe tbody tr th {\n",
       "        vertical-align: top;\n",
       "    }\n",
       "\n",
       "    .dataframe thead th {\n",
       "        text-align: right;\n",
       "    }\n",
       "</style>\n",
       "<table border=\"1\" class=\"dataframe\">\n",
       "  <thead>\n",
       "    <tr style=\"text-align: right;\">\n",
       "      <th></th>\n",
       "      <th>tweet</th>\n",
       "      <th>tweetPolarity</th>\n",
       "      <th>score</th>\n",
       "    </tr>\n",
       "  </thead>\n",
       "  <tbody>\n",
       "    <tr>\n",
       "      <th>0</th>\n",
       "      <td>Elecciones2020 | En Florida: JoeBiden dice que...</td>\n",
       "      <td>0.000000</td>\n",
       "      <td>Neutral</td>\n",
       "    </tr>\n",
       "    <tr>\n",
       "      <th>1</th>\n",
       "      <td>Usa 2020, Trump contro Facebook e Twitter: cop...</td>\n",
       "      <td>0.000000</td>\n",
       "      <td>Neutral</td>\n",
       "    </tr>\n",
       "    <tr>\n",
       "      <th>2</th>\n",
       "      <td>Trump: As a student I used to hear for years, ...</td>\n",
       "      <td>0.333333</td>\n",
       "      <td>Positive</td>\n",
       "    </tr>\n",
       "    <tr>\n",
       "      <th>3</th>\n",
       "      <td>2 hours since last tweet from Trump! Maybe he ...</td>\n",
       "      <td>0.076667</td>\n",
       "      <td>Positive</td>\n",
       "    </tr>\n",
       "    <tr>\n",
       "      <th>4</th>\n",
       "      <td>You get a tie! And you get a tie! Trump ‘s ral...</td>\n",
       "      <td>0.000000</td>\n",
       "      <td>Neutral</td>\n",
       "    </tr>\n",
       "    <tr>\n",
       "      <th>...</th>\n",
       "      <td>...</td>\n",
       "      <td>...</td>\n",
       "      <td>...</td>\n",
       "    </tr>\n",
       "    <tr>\n",
       "      <th>970914</th>\n",
       "      <td>Sagten Sie nicht Sie wären kein Sozi!?\\n\\...</td>\n",
       "      <td>0.000000</td>\n",
       "      <td>Neutral</td>\n",
       "    </tr>\n",
       "    <tr>\n",
       "      <th>970915</th>\n",
       "      <td>JOE BIDEN WHY JOE BIDEN DID WINNED ?? TRUMP TR...</td>\n",
       "      <td>-0.150000</td>\n",
       "      <td>Negative</td>\n",
       "    </tr>\n",
       "    <tr>\n",
       "      <th>970916</th>\n",
       "      <td>AfD|ler reagieren panisch bis hysterisch auf d...</td>\n",
       "      <td>0.000000</td>\n",
       "      <td>Neutral</td>\n",
       "    </tr>\n",
       "    <tr>\n",
       "      <th>970917</th>\n",
       "      <td>First, you would need to compare that to pr...</td>\n",
       "      <td>0.130556</td>\n",
       "      <td>Positive</td>\n",
       "    </tr>\n",
       "    <tr>\n",
       "      <th>970918</th>\n",
       "      <td>OK just had to do it !\\nTrump CatapultTrump ht...</td>\n",
       "      <td>0.625000</td>\n",
       "      <td>Positive</td>\n",
       "    </tr>\n",
       "  </tbody>\n",
       "</table>\n",
       "<p>970919 rows × 3 columns</p>\n",
       "</div>"
      ],
      "text/plain": [
       "                                                    tweet  tweetPolarity  \\\n",
       "0       Elecciones2020 | En Florida: JoeBiden dice que...       0.000000   \n",
       "1       Usa 2020, Trump contro Facebook e Twitter: cop...       0.000000   \n",
       "2       Trump: As a student I used to hear for years, ...       0.333333   \n",
       "3       2 hours since last tweet from Trump! Maybe he ...       0.076667   \n",
       "4       You get a tie! And you get a tie! Trump ‘s ral...       0.000000   \n",
       "...                                                   ...            ...   \n",
       "970914       Sagten Sie nicht Sie wären kein Sozi!?\\n\\...       0.000000   \n",
       "970915  JOE BIDEN WHY JOE BIDEN DID WINNED ?? TRUMP TR...      -0.150000   \n",
       "970916  AfD|ler reagieren panisch bis hysterisch auf d...       0.000000   \n",
       "970917     First, you would need to compare that to pr...       0.130556   \n",
       "970918  OK just had to do it !\\nTrump CatapultTrump ht...       0.625000   \n",
       "\n",
       "           score  \n",
       "0        Neutral  \n",
       "1        Neutral  \n",
       "2       Positive  \n",
       "3       Positive  \n",
       "4        Neutral  \n",
       "...          ...  \n",
       "970914   Neutral  \n",
       "970915  Negative  \n",
       "970916   Neutral  \n",
       "970917  Positive  \n",
       "970918  Positive  \n",
       "\n",
       "[970919 rows x 3 columns]"
      ]
     },
     "execution_count": 138,
     "metadata": {},
     "output_type": "execute_result"
    }
   ],
   "source": [
    "fewTweetsTrump"
   ]
  },
  {
   "cell_type": "code",
   "execution_count": 139,
   "id": "9c9f2c0c",
   "metadata": {},
   "outputs": [],
   "source": [
    "positiveTrump = fewTweetsTrump[fewTweetsTrump['score']=='Positive']\n",
    "positivePercTrump = (positiveTrump.shape[0]/fewTweetsTrump.shape[0])*100\n",
    "NegativeTrump = fewTweetsTrump[fewTweetsTrump['score']=='Negative']\n",
    "NegativePercTrump = (NegativeTrump.shape[0]/fewTweetsTrump.shape[0])*100\n",
    "NeutralTrump = fewTweetsTrump[fewTweetsTrump['score']=='Neutral']\n",
    "NeutralPercTrump = (NeutralTrump.shape[0]/fewTweetsTrump.shape[0])*100"
   ]
  },
  {
   "cell_type": "code",
   "execution_count": 140,
   "id": "15ffe041",
   "metadata": {},
   "outputs": [
    {
     "data": {
      "text/plain": [
       "(28.58127197016435, 16.61075743702616, 54.8079705928095)"
      ]
     },
     "execution_count": 140,
     "metadata": {},
     "output_type": "execute_result"
    }
   ],
   "source": [
    "positivePercTrump,NegativePercTrump,NeutralPercTrump"
   ]
  },
  {
   "cell_type": "code",
   "execution_count": 141,
   "id": "80ade83b",
   "metadata": {},
   "outputs": [
    {
     "data": {
      "text/html": [
       "<div>\n",
       "<style scoped>\n",
       "    .dataframe tbody tr th:only-of-type {\n",
       "        vertical-align: middle;\n",
       "    }\n",
       "\n",
       "    .dataframe tbody tr th {\n",
       "        vertical-align: top;\n",
       "    }\n",
       "\n",
       "    .dataframe thead th {\n",
       "        text-align: right;\n",
       "    }\n",
       "</style>\n",
       "<table border=\"1\" class=\"dataframe\">\n",
       "  <thead>\n",
       "    <tr style=\"text-align: right;\">\n",
       "      <th></th>\n",
       "      <th>created_at</th>\n",
       "      <th>tweet_id</th>\n",
       "      <th>tweet</th>\n",
       "      <th>likes</th>\n",
       "      <th>retweet_count</th>\n",
       "      <th>source</th>\n",
       "      <th>user_id</th>\n",
       "      <th>user_name</th>\n",
       "      <th>user_screen_name</th>\n",
       "      <th>user_description</th>\n",
       "      <th>...</th>\n",
       "      <th>user_followers_count</th>\n",
       "      <th>user_location</th>\n",
       "      <th>lat</th>\n",
       "      <th>long</th>\n",
       "      <th>city</th>\n",
       "      <th>country</th>\n",
       "      <th>continent</th>\n",
       "      <th>state</th>\n",
       "      <th>state_code</th>\n",
       "      <th>collected_at</th>\n",
       "    </tr>\n",
       "  </thead>\n",
       "  <tbody>\n",
       "    <tr>\n",
       "      <th>0</th>\n",
       "      <td>2020-10-15 00:00:01</td>\n",
       "      <td>1.316529e+18</td>\n",
       "      <td>#Elecciones2020 | En #Florida: #JoeBiden dice ...</td>\n",
       "      <td>0.0</td>\n",
       "      <td>0.0</td>\n",
       "      <td>TweetDeck</td>\n",
       "      <td>3.606665e+08</td>\n",
       "      <td>El Sol Latino News</td>\n",
       "      <td>elsollatinonews</td>\n",
       "      <td>🌐 Noticias de interés para latinos de la costa...</td>\n",
       "      <td>...</td>\n",
       "      <td>1860.0</td>\n",
       "      <td>Philadelphia, PA / Miami, FL</td>\n",
       "      <td>25.774270</td>\n",
       "      <td>-80.193660</td>\n",
       "      <td>NaN</td>\n",
       "      <td>United States of America</td>\n",
       "      <td>North America</td>\n",
       "      <td>Florida</td>\n",
       "      <td>FL</td>\n",
       "      <td>2020-10-21 00:00:00</td>\n",
       "    </tr>\n",
       "    <tr>\n",
       "      <th>1</th>\n",
       "      <td>2020-10-15 00:00:18</td>\n",
       "      <td>1.316529e+18</td>\n",
       "      <td>#HunterBiden #HunterBidenEmails #JoeBiden #Joe...</td>\n",
       "      <td>0.0</td>\n",
       "      <td>0.0</td>\n",
       "      <td>Twitter for iPad</td>\n",
       "      <td>8.099044e+08</td>\n",
       "      <td>Cheri A. 🇺🇸</td>\n",
       "      <td>Biloximeemaw</td>\n",
       "      <td>Locked and loaded Meemaw. Love God, my family ...</td>\n",
       "      <td>...</td>\n",
       "      <td>6628.0</td>\n",
       "      <td>NaN</td>\n",
       "      <td>NaN</td>\n",
       "      <td>NaN</td>\n",
       "      <td>NaN</td>\n",
       "      <td>NaN</td>\n",
       "      <td>NaN</td>\n",
       "      <td>NaN</td>\n",
       "      <td>NaN</td>\n",
       "      <td>2020-10-21 00:00:00.517827283</td>\n",
       "    </tr>\n",
       "    <tr>\n",
       "      <th>2</th>\n",
       "      <td>2020-10-15 00:00:20</td>\n",
       "      <td>1.316529e+18</td>\n",
       "      <td>@IslandGirlPRV @BradBeauregardJ @MeidasTouch T...</td>\n",
       "      <td>0.0</td>\n",
       "      <td>0.0</td>\n",
       "      <td>Twitter Web App</td>\n",
       "      <td>3.494182e+09</td>\n",
       "      <td>Flag Waver</td>\n",
       "      <td>Flag_Wavers</td>\n",
       "      <td>NaN</td>\n",
       "      <td>...</td>\n",
       "      <td>1536.0</td>\n",
       "      <td>Golden Valley Arizona</td>\n",
       "      <td>46.304036</td>\n",
       "      <td>-109.171431</td>\n",
       "      <td>NaN</td>\n",
       "      <td>United States of America</td>\n",
       "      <td>North America</td>\n",
       "      <td>Montana</td>\n",
       "      <td>MT</td>\n",
       "      <td>2020-10-21 00:00:01.035654566</td>\n",
       "    </tr>\n",
       "    <tr>\n",
       "      <th>3</th>\n",
       "      <td>2020-10-15 00:00:21</td>\n",
       "      <td>1.316529e+18</td>\n",
       "      <td>@chrislongview Watching and setting dvr. Let’s...</td>\n",
       "      <td>0.0</td>\n",
       "      <td>0.0</td>\n",
       "      <td>Twitter for iPhone</td>\n",
       "      <td>8.242596e+17</td>\n",
       "      <td>Michelle Ferg</td>\n",
       "      <td>MichelleFerg4</td>\n",
       "      <td>NaN</td>\n",
       "      <td>...</td>\n",
       "      <td>27.0</td>\n",
       "      <td>NaN</td>\n",
       "      <td>NaN</td>\n",
       "      <td>NaN</td>\n",
       "      <td>NaN</td>\n",
       "      <td>NaN</td>\n",
       "      <td>NaN</td>\n",
       "      <td>NaN</td>\n",
       "      <td>NaN</td>\n",
       "      <td>2020-10-21 00:00:01.553481849</td>\n",
       "    </tr>\n",
       "    <tr>\n",
       "      <th>4</th>\n",
       "      <td>2020-10-15 00:00:22</td>\n",
       "      <td>1.316529e+18</td>\n",
       "      <td>#censorship #HunterBiden #Biden #BidenEmails #...</td>\n",
       "      <td>1.0</td>\n",
       "      <td>0.0</td>\n",
       "      <td>Twitter Web App</td>\n",
       "      <td>1.032807e+18</td>\n",
       "      <td>the Gold State</td>\n",
       "      <td>theegoldstate</td>\n",
       "      <td>A Silicon Valley #independent #News #Media #St...</td>\n",
       "      <td>...</td>\n",
       "      <td>390.0</td>\n",
       "      <td>California, USA</td>\n",
       "      <td>36.701463</td>\n",
       "      <td>-118.755997</td>\n",
       "      <td>NaN</td>\n",
       "      <td>United States of America</td>\n",
       "      <td>North America</td>\n",
       "      <td>California</td>\n",
       "      <td>CA</td>\n",
       "      <td>2020-10-21 00:00:02.071309132</td>\n",
       "    </tr>\n",
       "    <tr>\n",
       "      <th>...</th>\n",
       "      <td>...</td>\n",
       "      <td>...</td>\n",
       "      <td>...</td>\n",
       "      <td>...</td>\n",
       "      <td>...</td>\n",
       "      <td>...</td>\n",
       "      <td>...</td>\n",
       "      <td>...</td>\n",
       "      <td>...</td>\n",
       "      <td>...</td>\n",
       "      <td>...</td>\n",
       "      <td>...</td>\n",
       "      <td>...</td>\n",
       "      <td>...</td>\n",
       "      <td>...</td>\n",
       "      <td>...</td>\n",
       "      <td>...</td>\n",
       "      <td>...</td>\n",
       "      <td>...</td>\n",
       "      <td>...</td>\n",
       "      <td>...</td>\n",
       "    </tr>\n",
       "    <tr>\n",
       "      <th>776881</th>\n",
       "      <td>2020-11-08 23:59:38</td>\n",
       "      <td>1.325589e+18</td>\n",
       "      <td>Stop laying @CNN !\\n#Paris and #London dont gi...</td>\n",
       "      <td>0.0</td>\n",
       "      <td>0.0</td>\n",
       "      <td>Twitter for iPhone</td>\n",
       "      <td>3.873620e+08</td>\n",
       "      <td>flaquet</td>\n",
       "      <td>flaquet1</td>\n",
       "      <td>NaN</td>\n",
       "      <td>...</td>\n",
       "      <td>27.0</td>\n",
       "      <td>PARIS</td>\n",
       "      <td>48.856697</td>\n",
       "      <td>2.351462</td>\n",
       "      <td>Paris</td>\n",
       "      <td>France</td>\n",
       "      <td>Europe</td>\n",
       "      <td>Ile-de-France</td>\n",
       "      <td>IDF</td>\n",
       "      <td>2020-11-09 18:32:45.613547</td>\n",
       "    </tr>\n",
       "    <tr>\n",
       "      <th>776882</th>\n",
       "      <td>2020-11-08 23:59:38</td>\n",
       "      <td>1.325589e+18</td>\n",
       "      <td>Ωχ ελπίζω να μη μας βγει  σαν τους οπαδούς του...</td>\n",
       "      <td>0.0</td>\n",
       "      <td>0.0</td>\n",
       "      <td>Twitter for Android</td>\n",
       "      <td>4.032819e+08</td>\n",
       "      <td>οχι άλλο κάρβουνο 🇬🇷🗣🗣🗣</td>\n",
       "      <td>anapodoi</td>\n",
       "      <td>ακραία καιρικά φαινόμενα... ζήσαμε και απόψε</td>\n",
       "      <td>...</td>\n",
       "      <td>772.0</td>\n",
       "      <td>NaN</td>\n",
       "      <td>NaN</td>\n",
       "      <td>NaN</td>\n",
       "      <td>NaN</td>\n",
       "      <td>NaN</td>\n",
       "      <td>NaN</td>\n",
       "      <td>NaN</td>\n",
       "      <td>NaN</td>\n",
       "      <td>2020-11-09 18:32:45.947617</td>\n",
       "    </tr>\n",
       "    <tr>\n",
       "      <th>776883</th>\n",
       "      <td>2020-11-08 23:59:41</td>\n",
       "      <td>1.325589e+18</td>\n",
       "      <td>L'OTAN va sortir de sa léthargie et redevenir ...</td>\n",
       "      <td>48.0</td>\n",
       "      <td>14.0</td>\n",
       "      <td>Twitter for Android</td>\n",
       "      <td>7.819183e+17</td>\n",
       "      <td>🇫🇷 Alt-Droite (matricule 6921) ✝️ 🇬🇷 🇮🇹 🇦🇲</td>\n",
       "      <td>CtrlAltDroite</td>\n",
       "      <td>Fils de mineur. Libertés - Identité - Solidari...</td>\n",
       "      <td>...</td>\n",
       "      <td>15806.0</td>\n",
       "      <td>France</td>\n",
       "      <td>46.603354</td>\n",
       "      <td>1.888334</td>\n",
       "      <td>NaN</td>\n",
       "      <td>France</td>\n",
       "      <td>Europe</td>\n",
       "      <td>NaN</td>\n",
       "      <td>NaN</td>\n",
       "      <td>2020-11-09 18:32:45.627335</td>\n",
       "    </tr>\n",
       "    <tr>\n",
       "      <th>776884</th>\n",
       "      <td>2020-11-08 23:59:52</td>\n",
       "      <td>1.325589e+18</td>\n",
       "      <td>🌎\\n\\n“#congiuntifuoriregione”\\n\\n‘Sono felice ...</td>\n",
       "      <td>1.0</td>\n",
       "      <td>1.0</td>\n",
       "      <td>Twitter for iPhone</td>\n",
       "      <td>5.293315e+08</td>\n",
       "      <td>Angelo Tani</td>\n",
       "      <td>AngeloTani</td>\n",
       "      <td>nato a casa dei nonni</td>\n",
       "      <td>...</td>\n",
       "      <td>5974.0</td>\n",
       "      <td>🌎</td>\n",
       "      <td>NaN</td>\n",
       "      <td>NaN</td>\n",
       "      <td>NaN</td>\n",
       "      <td>NaN</td>\n",
       "      <td>NaN</td>\n",
       "      <td>NaN</td>\n",
       "      <td>NaN</td>\n",
       "      <td>2020-11-09 18:32:45.599846</td>\n",
       "    </tr>\n",
       "    <tr>\n",
       "      <th>776885</th>\n",
       "      <td>2020-11-08 23:59:58</td>\n",
       "      <td>1.325589e+18</td>\n",
       "      <td>Ik moet zeggen dat ik #Biden \"the lesser of tw...</td>\n",
       "      <td>0.0</td>\n",
       "      <td>0.0</td>\n",
       "      <td>Twitter for Android</td>\n",
       "      <td>5.863863e+08</td>\n",
       "      <td>Job</td>\n",
       "      <td>_JobO__</td>\n",
       "      <td>-voeg hier uw interessante bio toe-</td>\n",
       "      <td>...</td>\n",
       "      <td>119.0</td>\n",
       "      <td>NaN</td>\n",
       "      <td>NaN</td>\n",
       "      <td>NaN</td>\n",
       "      <td>NaN</td>\n",
       "      <td>NaN</td>\n",
       "      <td>NaN</td>\n",
       "      <td>NaN</td>\n",
       "      <td>NaN</td>\n",
       "      <td>2020-11-09 18:32:45.747707</td>\n",
       "    </tr>\n",
       "  </tbody>\n",
       "</table>\n",
       "<p>776886 rows × 21 columns</p>\n",
       "</div>"
      ],
      "text/plain": [
       "                 created_at      tweet_id  \\\n",
       "0       2020-10-15 00:00:01  1.316529e+18   \n",
       "1       2020-10-15 00:00:18  1.316529e+18   \n",
       "2       2020-10-15 00:00:20  1.316529e+18   \n",
       "3       2020-10-15 00:00:21  1.316529e+18   \n",
       "4       2020-10-15 00:00:22  1.316529e+18   \n",
       "...                     ...           ...   \n",
       "776881  2020-11-08 23:59:38  1.325589e+18   \n",
       "776882  2020-11-08 23:59:38  1.325589e+18   \n",
       "776883  2020-11-08 23:59:41  1.325589e+18   \n",
       "776884  2020-11-08 23:59:52  1.325589e+18   \n",
       "776885  2020-11-08 23:59:58  1.325589e+18   \n",
       "\n",
       "                                                    tweet  likes  \\\n",
       "0       #Elecciones2020 | En #Florida: #JoeBiden dice ...    0.0   \n",
       "1       #HunterBiden #HunterBidenEmails #JoeBiden #Joe...    0.0   \n",
       "2       @IslandGirlPRV @BradBeauregardJ @MeidasTouch T...    0.0   \n",
       "3       @chrislongview Watching and setting dvr. Let’s...    0.0   \n",
       "4       #censorship #HunterBiden #Biden #BidenEmails #...    1.0   \n",
       "...                                                   ...    ...   \n",
       "776881  Stop laying @CNN !\\n#Paris and #London dont gi...    0.0   \n",
       "776882  Ωχ ελπίζω να μη μας βγει  σαν τους οπαδούς του...    0.0   \n",
       "776883  L'OTAN va sortir de sa léthargie et redevenir ...   48.0   \n",
       "776884  🌎\\n\\n“#congiuntifuoriregione”\\n\\n‘Sono felice ...    1.0   \n",
       "776885  Ik moet zeggen dat ik #Biden \"the lesser of tw...    0.0   \n",
       "\n",
       "        retweet_count               source       user_id  \\\n",
       "0                 0.0            TweetDeck  3.606665e+08   \n",
       "1                 0.0     Twitter for iPad  8.099044e+08   \n",
       "2                 0.0      Twitter Web App  3.494182e+09   \n",
       "3                 0.0   Twitter for iPhone  8.242596e+17   \n",
       "4                 0.0      Twitter Web App  1.032807e+18   \n",
       "...               ...                  ...           ...   \n",
       "776881            0.0   Twitter for iPhone  3.873620e+08   \n",
       "776882            0.0  Twitter for Android  4.032819e+08   \n",
       "776883           14.0  Twitter for Android  7.819183e+17   \n",
       "776884            1.0   Twitter for iPhone  5.293315e+08   \n",
       "776885            0.0  Twitter for Android  5.863863e+08   \n",
       "\n",
       "                                         user_name user_screen_name  \\\n",
       "0                               El Sol Latino News  elsollatinonews   \n",
       "1                                      Cheri A. 🇺🇸     Biloximeemaw   \n",
       "2                                       Flag Waver      Flag_Wavers   \n",
       "3                                    Michelle Ferg    MichelleFerg4   \n",
       "4                                   the Gold State    theegoldstate   \n",
       "...                                            ...              ...   \n",
       "776881                                     flaquet         flaquet1   \n",
       "776882                     οχι άλλο κάρβουνο 🇬🇷🗣🗣🗣         anapodoi   \n",
       "776883  🇫🇷 Alt-Droite (matricule 6921) ✝️ 🇬🇷 🇮🇹 🇦🇲    CtrlAltDroite   \n",
       "776884                                 Angelo Tani       AngeloTani   \n",
       "776885                                         Job          _JobO__   \n",
       "\n",
       "                                         user_description  ...  \\\n",
       "0       🌐 Noticias de interés para latinos de la costa...  ...   \n",
       "1       Locked and loaded Meemaw. Love God, my family ...  ...   \n",
       "2                                                     NaN  ...   \n",
       "3                                                     NaN  ...   \n",
       "4       A Silicon Valley #independent #News #Media #St...  ...   \n",
       "...                                                   ...  ...   \n",
       "776881                                                NaN  ...   \n",
       "776882       ακραία καιρικά φαινόμενα... ζήσαμε και απόψε  ...   \n",
       "776883  Fils de mineur. Libertés - Identité - Solidari...  ...   \n",
       "776884                              nato a casa dei nonni  ...   \n",
       "776885                -voeg hier uw interessante bio toe-  ...   \n",
       "\n",
       "       user_followers_count                 user_location        lat  \\\n",
       "0                    1860.0  Philadelphia, PA / Miami, FL  25.774270   \n",
       "1                    6628.0                           NaN        NaN   \n",
       "2                    1536.0         Golden Valley Arizona  46.304036   \n",
       "3                      27.0                           NaN        NaN   \n",
       "4                     390.0               California, USA  36.701463   \n",
       "...                     ...                           ...        ...   \n",
       "776881                 27.0                         PARIS  48.856697   \n",
       "776882                772.0                           NaN        NaN   \n",
       "776883              15806.0                        France  46.603354   \n",
       "776884               5974.0                             🌎        NaN   \n",
       "776885                119.0                           NaN        NaN   \n",
       "\n",
       "              long   city                   country      continent  \\\n",
       "0       -80.193660    NaN  United States of America  North America   \n",
       "1              NaN    NaN                       NaN            NaN   \n",
       "2      -109.171431    NaN  United States of America  North America   \n",
       "3              NaN    NaN                       NaN            NaN   \n",
       "4      -118.755997    NaN  United States of America  North America   \n",
       "...            ...    ...                       ...            ...   \n",
       "776881    2.351462  Paris                    France         Europe   \n",
       "776882         NaN    NaN                       NaN            NaN   \n",
       "776883    1.888334    NaN                    France         Europe   \n",
       "776884         NaN    NaN                       NaN            NaN   \n",
       "776885         NaN    NaN                       NaN            NaN   \n",
       "\n",
       "                state state_code                   collected_at  \n",
       "0             Florida         FL            2020-10-21 00:00:00  \n",
       "1                 NaN        NaN  2020-10-21 00:00:00.517827283  \n",
       "2             Montana         MT  2020-10-21 00:00:01.035654566  \n",
       "3                 NaN        NaN  2020-10-21 00:00:01.553481849  \n",
       "4          California         CA  2020-10-21 00:00:02.071309132  \n",
       "...               ...        ...                            ...  \n",
       "776881  Ile-de-France        IDF     2020-11-09 18:32:45.613547  \n",
       "776882            NaN        NaN     2020-11-09 18:32:45.947617  \n",
       "776883            NaN        NaN     2020-11-09 18:32:45.627335  \n",
       "776884            NaN        NaN     2020-11-09 18:32:45.599846  \n",
       "776885            NaN        NaN     2020-11-09 18:32:45.747707  \n",
       "\n",
       "[776886 rows x 21 columns]"
      ]
     },
     "execution_count": 141,
     "metadata": {},
     "output_type": "execute_result"
    }
   ],
   "source": [
    "dfBiden"
   ]
  },
  {
   "cell_type": "code",
   "execution_count": 142,
   "id": "a6072ce8",
   "metadata": {},
   "outputs": [],
   "source": [
    "fewTweetsBiden = dfBiden['tweet'].to_frame()"
   ]
  },
  {
   "cell_type": "code",
   "execution_count": 143,
   "id": "f65232a1",
   "metadata": {},
   "outputs": [
    {
     "data": {
      "text/html": [
       "<div>\n",
       "<style scoped>\n",
       "    .dataframe tbody tr th:only-of-type {\n",
       "        vertical-align: middle;\n",
       "    }\n",
       "\n",
       "    .dataframe tbody tr th {\n",
       "        vertical-align: top;\n",
       "    }\n",
       "\n",
       "    .dataframe thead th {\n",
       "        text-align: right;\n",
       "    }\n",
       "</style>\n",
       "<table border=\"1\" class=\"dataframe\">\n",
       "  <thead>\n",
       "    <tr style=\"text-align: right;\">\n",
       "      <th></th>\n",
       "      <th>tweet</th>\n",
       "    </tr>\n",
       "  </thead>\n",
       "  <tbody>\n",
       "    <tr>\n",
       "      <th>0</th>\n",
       "      <td>#Elecciones2020 | En #Florida: #JoeBiden dice ...</td>\n",
       "    </tr>\n",
       "    <tr>\n",
       "      <th>1</th>\n",
       "      <td>#HunterBiden #HunterBidenEmails #JoeBiden #Joe...</td>\n",
       "    </tr>\n",
       "    <tr>\n",
       "      <th>2</th>\n",
       "      <td>@IslandGirlPRV @BradBeauregardJ @MeidasTouch T...</td>\n",
       "    </tr>\n",
       "    <tr>\n",
       "      <th>3</th>\n",
       "      <td>@chrislongview Watching and setting dvr. Let’s...</td>\n",
       "    </tr>\n",
       "    <tr>\n",
       "      <th>4</th>\n",
       "      <td>#censorship #HunterBiden #Biden #BidenEmails #...</td>\n",
       "    </tr>\n",
       "    <tr>\n",
       "      <th>...</th>\n",
       "      <td>...</td>\n",
       "    </tr>\n",
       "    <tr>\n",
       "      <th>776881</th>\n",
       "      <td>Stop laying @CNN !\\n#Paris and #London dont gi...</td>\n",
       "    </tr>\n",
       "    <tr>\n",
       "      <th>776882</th>\n",
       "      <td>Ωχ ελπίζω να μη μας βγει  σαν τους οπαδούς του...</td>\n",
       "    </tr>\n",
       "    <tr>\n",
       "      <th>776883</th>\n",
       "      <td>L'OTAN va sortir de sa léthargie et redevenir ...</td>\n",
       "    </tr>\n",
       "    <tr>\n",
       "      <th>776884</th>\n",
       "      <td>🌎\\n\\n“#congiuntifuoriregione”\\n\\n‘Sono felice ...</td>\n",
       "    </tr>\n",
       "    <tr>\n",
       "      <th>776885</th>\n",
       "      <td>Ik moet zeggen dat ik #Biden \"the lesser of tw...</td>\n",
       "    </tr>\n",
       "  </tbody>\n",
       "</table>\n",
       "<p>776886 rows × 1 columns</p>\n",
       "</div>"
      ],
      "text/plain": [
       "                                                    tweet\n",
       "0       #Elecciones2020 | En #Florida: #JoeBiden dice ...\n",
       "1       #HunterBiden #HunterBidenEmails #JoeBiden #Joe...\n",
       "2       @IslandGirlPRV @BradBeauregardJ @MeidasTouch T...\n",
       "3       @chrislongview Watching and setting dvr. Let’s...\n",
       "4       #censorship #HunterBiden #Biden #BidenEmails #...\n",
       "...                                                   ...\n",
       "776881  Stop laying @CNN !\\n#Paris and #London dont gi...\n",
       "776882  Ωχ ελπίζω να μη μας βγει  σαν τους οπαδούς του...\n",
       "776883  L'OTAN va sortir de sa léthargie et redevenir ...\n",
       "776884  🌎\\n\\n“#congiuntifuoriregione”\\n\\n‘Sono felice ...\n",
       "776885  Ik moet zeggen dat ik #Biden \"the lesser of tw...\n",
       "\n",
       "[776886 rows x 1 columns]"
      ]
     },
     "execution_count": 143,
     "metadata": {},
     "output_type": "execute_result"
    }
   ],
   "source": [
    "fewTweetsBiden"
   ]
  },
  {
   "cell_type": "code",
   "execution_count": 144,
   "id": "b5e39db3",
   "metadata": {},
   "outputs": [],
   "source": [
    "fewTweetsBiden['tweet']=fewTweetsBiden['tweet'].apply(cleanUpTweet)"
   ]
  },
  {
   "cell_type": "code",
   "execution_count": 145,
   "id": "b914401a",
   "metadata": {},
   "outputs": [],
   "source": [
    "fewTweetsBiden['polarity']=fewTweetsBiden['tweet'].apply(getPolarity)"
   ]
  },
  {
   "cell_type": "code",
   "execution_count": 146,
   "id": "52affda8",
   "metadata": {},
   "outputs": [],
   "source": [
    "fewTweetsBiden['score']=fewTweetsBiden['polarity'].apply(getScore)"
   ]
  },
  {
   "cell_type": "code",
   "execution_count": 147,
   "id": "c673b1cf",
   "metadata": {},
   "outputs": [],
   "source": [
    "PositiveBiden = fewTweetsBiden[fewTweetsBiden['score']=='Positive']\n",
    "positivePercBiden = (positiveTrump.shape[0]/fewTweetsBiden.shape[0])*100"
   ]
  },
  {
   "cell_type": "code",
   "execution_count": 148,
   "id": "ade678e2",
   "metadata": {},
   "outputs": [],
   "source": [
    "NegativeBiden = fewTweetsBiden[fewTweetsBiden['score']=='Negative']\n",
    "NegativePercBiden = (NegativeBiden.shape[0]/fewTweetsBiden.shape[0])*100"
   ]
  },
  {
   "cell_type": "code",
   "execution_count": 149,
   "id": "d893cbca",
   "metadata": {},
   "outputs": [],
   "source": [
    "NeutralBiden = fewTweetsBiden[fewTweetsBiden['score']=='Neutral']\n",
    "NeutralPercBiden = (NeutralBiden.shape[0]/fewTweetsBiden.shape[0])*100"
   ]
  },
  {
   "cell_type": "code",
   "execution_count": 150,
   "id": "3fc209cc",
   "metadata": {},
   "outputs": [
    {
     "data": {
      "text/plain": [
       "(35.71965513601738, 12.627335284713586, 56.70497344526739)"
      ]
     },
     "execution_count": 150,
     "metadata": {},
     "output_type": "execute_result"
    }
   ],
   "source": [
    "positivePercBiden,NegativePercBiden,NeutralPercBiden"
   ]
  },
  {
   "cell_type": "code",
   "execution_count": 152,
   "id": "711f687f",
   "metadata": {},
   "outputs": [
    {
     "data": {
      "image/png": "[encoded data removed]",
      "text/plain": [
       "<Figure size 432x288 with 1 Axes>"
      ]
     },
     "metadata": {},
     "output_type": "display_data"
    },
    {
     "data": {
      "image/png": "[encoded data removed]",
      "text/plain": [
       "<Figure size 432x288 with 1 Axes>"
      ]
     },
     "metadata": {},
     "output_type": "display_data"
    }
   ],
   "source": [
    "labels = ['positive', 'negative', 'neutral']\n",
    "sizes = [positivePercTrump,NegativePercTrump,NeutralPercTrump]\n",
    "\n",
    "\n",
    "fig, ax = plt.subplots()\n",
    "ax.pie(sizes, labels=labels, autopct='%1.1f%%')\n",
    "ax.axis('equal')  \n",
    "ax.set_title('Trump tweet sentiment analysis')\n",
    "\n",
    "\n",
    "plt.show()\n",
    "\n",
    "labels = ['positive', 'negative', 'neutral']\n",
    "sizes = [positivePercBiden,NegativePercBiden,NeutralPercBiden]\n",
    "\n",
    "\n",
    "fig, ax = plt.subplots()\n",
    "ax.pie(sizes, labels=labels, autopct='%1.1f%%')\n",
    "ax.axis('equal')  \n",
    "ax.set_title('biden tweet sentiment analysis')\n",
    "\n",
    "\n",
    "plt.show()\n"
   ]
  },
  {
   "cell_type": "code",
   "execution_count": 176,
   "id": "f35ba9d6",
   "metadata": {},
   "outputs": [],
   "source": [
    "text1 = \"The camera in this phone is good\"\n",
    "text2 = \"but the battery life is disappointing\""
   ]
  },
  {
   "cell_type": "code",
   "execution_count": 181,
   "id": "dfb831e1",
   "metadata": {},
   "outputs": [
    {
     "data": {
      "text/html": [
       "<div>\n",
       "<style scoped>\n",
       "    .dataframe tbody tr th:only-of-type {\n",
       "        vertical-align: middle;\n",
       "    }\n",
       "\n",
       "    .dataframe tbody tr th {\n",
       "        vertical-align: top;\n",
       "    }\n",
       "\n",
       "    .dataframe thead th {\n",
       "        text-align: right;\n",
       "    }\n",
       "</style>\n",
       "<table border=\"1\" class=\"dataframe\">\n",
       "  <thead>\n",
       "    <tr style=\"text-align: right;\">\n",
       "      <th></th>\n",
       "      <th>tweet</th>\n",
       "      <th>tweetPolarity</th>\n",
       "      <th>score</th>\n",
       "    </tr>\n",
       "  </thead>\n",
       "  <tbody>\n",
       "    <tr>\n",
       "      <th>0</th>\n",
       "      <td>Elecciones2020 | En Florida: JoeBiden dice que...</td>\n",
       "      <td>0.000000</td>\n",
       "      <td>Neutral</td>\n",
       "    </tr>\n",
       "    <tr>\n",
       "      <th>1</th>\n",
       "      <td>Usa 2020, Trump contro Facebook e Twitter: cop...</td>\n",
       "      <td>0.000000</td>\n",
       "      <td>Neutral</td>\n",
       "    </tr>\n",
       "    <tr>\n",
       "      <th>2</th>\n",
       "      <td>Trump: As a student I used to hear for years, ...</td>\n",
       "      <td>0.333333</td>\n",
       "      <td>Positive</td>\n",
       "    </tr>\n",
       "    <tr>\n",
       "      <th>3</th>\n",
       "      <td>2 hours since last tweet from Trump! Maybe he ...</td>\n",
       "      <td>0.076667</td>\n",
       "      <td>Positive</td>\n",
       "    </tr>\n",
       "    <tr>\n",
       "      <th>4</th>\n",
       "      <td>You get a tie! And you get a tie! Trump ‘s ral...</td>\n",
       "      <td>0.000000</td>\n",
       "      <td>Neutral</td>\n",
       "    </tr>\n",
       "    <tr>\n",
       "      <th>...</th>\n",
       "      <td>...</td>\n",
       "      <td>...</td>\n",
       "      <td>...</td>\n",
       "    </tr>\n",
       "    <tr>\n",
       "      <th>970914</th>\n",
       "      <td>Sagten Sie nicht Sie wären kein Sozi!?\\n\\...</td>\n",
       "      <td>0.000000</td>\n",
       "      <td>Neutral</td>\n",
       "    </tr>\n",
       "    <tr>\n",
       "      <th>970915</th>\n",
       "      <td>JOE BIDEN WHY JOE BIDEN DID WINNED ?? TRUMP TR...</td>\n",
       "      <td>-0.150000</td>\n",
       "      <td>Negative</td>\n",
       "    </tr>\n",
       "    <tr>\n",
       "      <th>970916</th>\n",
       "      <td>AfD|ler reagieren panisch bis hysterisch auf d...</td>\n",
       "      <td>0.000000</td>\n",
       "      <td>Neutral</td>\n",
       "    </tr>\n",
       "    <tr>\n",
       "      <th>970917</th>\n",
       "      <td>First, you would need to compare that to pr...</td>\n",
       "      <td>0.130556</td>\n",
       "      <td>Positive</td>\n",
       "    </tr>\n",
       "    <tr>\n",
       "      <th>970918</th>\n",
       "      <td>OK just had to do it !\\nTrump CatapultTrump ht...</td>\n",
       "      <td>0.625000</td>\n",
       "      <td>Positive</td>\n",
       "    </tr>\n",
       "  </tbody>\n",
       "</table>\n",
       "<p>970919 rows × 3 columns</p>\n",
       "</div>"
      ],
      "text/plain": [
       "                                                    tweet  tweetPolarity  \\\n",
       "0       Elecciones2020 | En Florida: JoeBiden dice que...       0.000000   \n",
       "1       Usa 2020, Trump contro Facebook e Twitter: cop...       0.000000   \n",
       "2       Trump: As a student I used to hear for years, ...       0.333333   \n",
       "3       2 hours since last tweet from Trump! Maybe he ...       0.076667   \n",
       "4       You get a tie! And you get a tie! Trump ‘s ral...       0.000000   \n",
       "...                                                   ...            ...   \n",
       "970914       Sagten Sie nicht Sie wären kein Sozi!?\\n\\...       0.000000   \n",
       "970915  JOE BIDEN WHY JOE BIDEN DID WINNED ?? TRUMP TR...      -0.150000   \n",
       "970916  AfD|ler reagieren panisch bis hysterisch auf d...       0.000000   \n",
       "970917     First, you would need to compare that to pr...       0.130556   \n",
       "970918  OK just had to do it !\\nTrump CatapultTrump ht...       0.625000   \n",
       "\n",
       "           score  \n",
       "0        Neutral  \n",
       "1        Neutral  \n",
       "2       Positive  \n",
       "3       Positive  \n",
       "4        Neutral  \n",
       "...          ...  \n",
       "970914   Neutral  \n",
       "970915  Negative  \n",
       "970916   Neutral  \n",
       "970917  Positive  \n",
       "970918  Positive  \n",
       "\n",
       "[970919 rows x 3 columns]"
      ]
     },
     "execution_count": 181,
     "metadata": {},
     "output_type": "execute_result"
    }
   ],
   "source": [
    "fewTweetsTrump"
   ]
  },
  {
   "cell_type": "code",
   "execution_count": 204,
   "id": "097a2b93",
   "metadata": {},
   "outputs": [],
   "source": [
    "samplePositivePlarityTrump = fewTweetsTrump[['tweet','tweetPolarity']]"
   ]
  },
  {
   "cell_type": "code",
   "execution_count": 205,
   "id": "ba3c8a25",
   "metadata": {},
   "outputs": [
    {
     "data": {
      "text/plain": [
       "pandas.core.frame.DataFrame"
      ]
     },
     "execution_count": 205,
     "metadata": {},
     "output_type": "execute_result"
    }
   ],
   "source": [
    "type(samplePositivePlarity)"
   ]
  },
  {
   "cell_type": "code",
   "execution_count": 206,
   "id": "e3c61de8",
   "metadata": {},
   "outputs": [],
   "source": [
    "trumpPolarityList = list(samplePositivePlarityTrump['tweetPolarity'])"
   ]
  },
  {
   "cell_type": "code",
   "execution_count": 207,
   "id": "4a11772c",
   "metadata": {},
   "outputs": [],
   "source": [
    "trumpAverage_polarity = sum(trumpPolarityList)/len(trumpPolarityList)"
   ]
  },
  {
   "cell_type": "code",
   "execution_count": 208,
   "id": "cbae7321",
   "metadata": {},
   "outputs": [
    {
     "data": {
      "text/plain": [
       "0.0438231471304223"
      ]
     },
     "execution_count": 208,
     "metadata": {},
     "output_type": "execute_result"
    }
   ],
   "source": [
    "trumpAverage_polarity"
   ]
  },
  {
   "cell_type": "code",
   "execution_count": 211,
   "id": "4dcfd29c",
   "metadata": {},
   "outputs": [
    {
     "data": {
      "text/html": [
       "<div>\n",
       "<style scoped>\n",
       "    .dataframe tbody tr th:only-of-type {\n",
       "        vertical-align: middle;\n",
       "    }\n",
       "\n",
       "    .dataframe tbody tr th {\n",
       "        vertical-align: top;\n",
       "    }\n",
       "\n",
       "    .dataframe thead th {\n",
       "        text-align: right;\n",
       "    }\n",
       "</style>\n",
       "<table border=\"1\" class=\"dataframe\">\n",
       "  <thead>\n",
       "    <tr style=\"text-align: right;\">\n",
       "      <th></th>\n",
       "      <th>tweet</th>\n",
       "      <th>polarity</th>\n",
       "      <th>score</th>\n",
       "    </tr>\n",
       "  </thead>\n",
       "  <tbody>\n",
       "    <tr>\n",
       "      <th>0</th>\n",
       "      <td>Elecciones2020 | En Florida: JoeBiden dice que...</td>\n",
       "      <td>0.00</td>\n",
       "      <td>Neutral</td>\n",
       "    </tr>\n",
       "    <tr>\n",
       "      <th>1</th>\n",
       "      <td>HunterBiden HunterBidenEmails JoeBiden JoeBide...</td>\n",
       "      <td>0.00</td>\n",
       "      <td>Neutral</td>\n",
       "    </tr>\n",
       "    <tr>\n",
       "      <th>2</th>\n",
       "      <td>This is how Biden made his ! TrumpIsNotAmer...</td>\n",
       "      <td>0.00</td>\n",
       "      <td>Neutral</td>\n",
       "    </tr>\n",
       "    <tr>\n",
       "      <th>3</th>\n",
       "      <td>Watching and setting dvr. Let’s give him bonu...</td>\n",
       "      <td>0.00</td>\n",
       "      <td>Neutral</td>\n",
       "    </tr>\n",
       "    <tr>\n",
       "      <th>4</th>\n",
       "      <td>censorship HunterBiden Biden BidenEmails Biden...</td>\n",
       "      <td>0.00</td>\n",
       "      <td>Neutral</td>\n",
       "    </tr>\n",
       "    <tr>\n",
       "      <th>...</th>\n",
       "      <td>...</td>\n",
       "      <td>...</td>\n",
       "      <td>...</td>\n",
       "    </tr>\n",
       "    <tr>\n",
       "      <th>776881</th>\n",
       "      <td>Stop laying  !\\nParis and London dont give a f...</td>\n",
       "      <td>-0.50</td>\n",
       "      <td>Negative</td>\n",
       "    </tr>\n",
       "    <tr>\n",
       "      <th>776882</th>\n",
       "      <td>Ωχ ελπίζω να μη μας βγει  σαν τους οπαδούς του...</td>\n",
       "      <td>0.00</td>\n",
       "      <td>Neutral</td>\n",
       "    </tr>\n",
       "    <tr>\n",
       "      <th>776883</th>\n",
       "      <td>L'OTAN va sortir de sa léthargie et redevenir ...</td>\n",
       "      <td>0.00</td>\n",
       "      <td>Neutral</td>\n",
       "    </tr>\n",
       "    <tr>\n",
       "      <th>776884</th>\n",
       "      <td>🌎\\n\\n“congiuntifuoriregione”\\n\\n‘Sono felice p...</td>\n",
       "      <td>0.25</td>\n",
       "      <td>Positive</td>\n",
       "    </tr>\n",
       "    <tr>\n",
       "      <th>776885</th>\n",
       "      <td>Ik moet zeggen dat ik Biden \"the lesser of two...</td>\n",
       "      <td>0.00</td>\n",
       "      <td>Neutral</td>\n",
       "    </tr>\n",
       "  </tbody>\n",
       "</table>\n",
       "<p>776886 rows × 3 columns</p>\n",
       "</div>"
      ],
      "text/plain": [
       "                                                    tweet  polarity     score\n",
       "0       Elecciones2020 | En Florida: JoeBiden dice que...      0.00   Neutral\n",
       "1       HunterBiden HunterBidenEmails JoeBiden JoeBide...      0.00   Neutral\n",
       "2          This is how Biden made his ! TrumpIsNotAmer...      0.00   Neutral\n",
       "3        Watching and setting dvr. Let’s give him bonu...      0.00   Neutral\n",
       "4       censorship HunterBiden Biden BidenEmails Biden...      0.00   Neutral\n",
       "...                                                   ...       ...       ...\n",
       "776881  Stop laying  !\\nParis and London dont give a f...     -0.50  Negative\n",
       "776882  Ωχ ελπίζω να μη μας βγει  σαν τους οπαδούς του...      0.00   Neutral\n",
       "776883  L'OTAN va sortir de sa léthargie et redevenir ...      0.00   Neutral\n",
       "776884  🌎\\n\\n“congiuntifuoriregione”\\n\\n‘Sono felice p...      0.25  Positive\n",
       "776885  Ik moet zeggen dat ik Biden \"the lesser of two...      0.00   Neutral\n",
       "\n",
       "[776886 rows x 3 columns]"
      ]
     },
     "execution_count": 211,
     "metadata": {},
     "output_type": "execute_result"
    }
   ],
   "source": [
    "fewTweetsBiden"
   ]
  },
  {
   "cell_type": "code",
   "execution_count": 306,
   "id": "e6fda4da",
   "metadata": {},
   "outputs": [],
   "source": [
    "samplePositivePlarityBiden = fewTweetsBiden[['tweet','polarity']]"
   ]
  },
  {
   "cell_type": "code",
   "execution_count": 307,
   "id": "5b1fefac",
   "metadata": {},
   "outputs": [],
   "source": [
    "BidenPolarityList = list(samplePositivePlarityBiden['polarity'])"
   ]
  },
  {
   "cell_type": "code",
   "execution_count": 308,
   "id": "aa8c83b0",
   "metadata": {},
   "outputs": [],
   "source": [
    "BidenAverage_polarity = sum(BidenPolarityList)/len(BidenPolarityList)"
   ]
  },
  {
   "cell_type": "code",
   "execution_count": 309,
   "id": "bbdc8ac2",
   "metadata": {},
   "outputs": [
    {
     "data": {
      "text/plain": [
       "0.07158424128698783"
      ]
     },
     "execution_count": 309,
     "metadata": {},
     "output_type": "execute_result"
    }
   ],
   "source": [
    "BidenAverage_polarity"
   ]
  },
  {
   "cell_type": "code",
   "execution_count": 333,
   "id": "913bbec8",
   "metadata": {},
   "outputs": [],
   "source": [
    "trumpBidenPolarity = [['trump',trumpAverage_polarity],['biden',BidenAverage_polarity]]"
   ]
  },
  {
   "cell_type": "code",
   "execution_count": 334,
   "id": "8a5420b7",
   "metadata": {},
   "outputs": [
    {
     "data": {
      "text/plain": [
       "[['trump', 0.0438231471304223], ['biden', 0.07158424128698783]]"
      ]
     },
     "execution_count": 334,
     "metadata": {},
     "output_type": "execute_result"
    }
   ],
   "source": [
    "trumpBidenPolarity"
   ]
  },
  {
   "cell_type": "code",
   "execution_count": 335,
   "id": "4af23efb",
   "metadata": {},
   "outputs": [],
   "source": [
    "trumpBidenPolarity=np.array(trumpBidenPolarity)"
   ]
  },
  {
   "cell_type": "code",
   "execution_count": 336,
   "id": "861ac1d2",
   "metadata": {},
   "outputs": [],
   "source": [
    "trumpBidenPolarity = pd.DataFrame(trumpBidenPolarity,columns=['name','polarity'])"
   ]
  },
  {
   "cell_type": "code",
   "execution_count": 337,
   "id": "f9710049",
   "metadata": {},
   "outputs": [
    {
     "data": {
      "text/html": [
       "<div>\n",
       "<style scoped>\n",
       "    .dataframe tbody tr th:only-of-type {\n",
       "        vertical-align: middle;\n",
       "    }\n",
       "\n",
       "    .dataframe tbody tr th {\n",
       "        vertical-align: top;\n",
       "    }\n",
       "\n",
       "    .dataframe thead th {\n",
       "        text-align: right;\n",
       "    }\n",
       "</style>\n",
       "<table border=\"1\" class=\"dataframe\">\n",
       "  <thead>\n",
       "    <tr style=\"text-align: right;\">\n",
       "      <th></th>\n",
       "      <th>name</th>\n",
       "      <th>polarity</th>\n",
       "    </tr>\n",
       "  </thead>\n",
       "  <tbody>\n",
       "    <tr>\n",
       "      <th>0</th>\n",
       "      <td>trump</td>\n",
       "      <td>0.0438231471304223</td>\n",
       "    </tr>\n",
       "    <tr>\n",
       "      <th>1</th>\n",
       "      <td>biden</td>\n",
       "      <td>0.07158424128698783</td>\n",
       "    </tr>\n",
       "  </tbody>\n",
       "</table>\n",
       "</div>"
      ],
      "text/plain": [
       "    name             polarity\n",
       "0  trump   0.0438231471304223\n",
       "1  biden  0.07158424128698783"
      ]
     },
     "execution_count": 337,
     "metadata": {},
     "output_type": "execute_result"
    }
   ],
   "source": [
    "trumpBidenPolarity"
   ]
  },
  {
   "cell_type": "code",
   "execution_count": 338,
   "id": "428a6d6a",
   "metadata": {},
   "outputs": [
    {
     "data": {
      "text/plain": [
       "[0.0438231471304223, 0.07158424128698783]"
      ]
     },
     "execution_count": 338,
     "metadata": {},
     "output_type": "execute_result"
    }
   ],
   "source": [
    "trumpBidenPolarityList=list(trumpBidenPolarity['polarity'])\n",
    "listTemp=[]\n",
    "for item in trumpBidenPolarityList:\n",
    "    listTemp.append(float(item))\n",
    "trumpBidenPolarityList=listTemp\n",
    "trumpBidenPolarityList"
   ]
  },
  {
   "cell_type": "code",
   "execution_count": 347,
   "id": "8ef57f57",
   "metadata": {},
   "outputs": [
    {
     "data": {
      "image/png": "[encoded data removed]",
      "text/plain": [
       "<Figure size 432x288 with 1 Axes>"
      ]
     },
     "metadata": {
      "needs_background": "light"
     },
     "output_type": "display_data"
    }
   ],
   "source": [
    "\n",
    "bars = list(trumpBidenPolarity['name'])\n",
    "y_pos = np.arange(len(bars))\n",
    "\n",
    "\n",
    "plt.bar(bars, trumpBidenPolarityList)\n",
    "\n",
    "plt.xticks(y_pos, bars)\n",
    "\n",
    "plt.show()\n"
   ]
  },
  {
   "cell_type": "code",
   "execution_count": null,
   "id": "db9c54f6",
   "metadata": {},
   "outputs": [],
   "source": []
  },
  {
   "cell_type": "code",
   "execution_count": null,
   "id": "02ff46c7",
   "metadata": {},
   "outputs": [],
   "source": []
  },
  {
   "cell_type": "code",
   "execution_count": null,
   "id": "338f9172",
   "metadata": {},
   "outputs": [],
   "source": []
  },
  {
   "cell_type": "code",
   "execution_count": null,
   "id": "9564426d",
   "metadata": {},
   "outputs": [],
   "source": []
  }
 ],
 "metadata": {
  "kernelspec": {
   "display_name": "Python 3 (ipykernel)",
   "language": "python",
   "name": "python3"
  },
  "language_info": {
   "codemirror_mode": {
    "name": "ipython",
    "version": 3
   },
   "file_extension": ".py",
   "mimetype": "text/x-python",
   "name": "python",
   "nbconvert_exporter": "python",
   "pygments_lexer": "ipython3",
   "version": "3.9.12"
  }
 },
 "nbformat": 4,
 "nbformat_minor": 5
}
